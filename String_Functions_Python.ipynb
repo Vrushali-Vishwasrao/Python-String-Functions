{
 "cells": [
  {
   "cell_type": "markdown",
   "id": "7c18deac",
   "metadata": {},
   "source": [
    "## 1. Capitalize\n",
    "### Convert only first letter of string in upper case."
   ]
  },
  {
   "cell_type": "markdown",
   "id": "3a843341",
   "metadata": {},
   "source": [
    "#### Example-1"
   ]
  },
  {
   "cell_type": "code",
   "execution_count": 1,
   "id": "101c53c3",
   "metadata": {},
   "outputs": [
    {
     "data": {
      "text/plain": [
       "'my name is vrushali. my age is 28'"
      ]
     },
     "execution_count": 1,
     "metadata": {},
     "output_type": "execute_result"
    }
   ],
   "source": [
    "info = 'my name is vrushali. my age is 28'\n",
    "info"
   ]
  },
  {
   "cell_type": "code",
   "execution_count": 2,
   "id": "d2f84159",
   "metadata": {},
   "outputs": [
    {
     "name": "stdout",
     "output_type": "stream",
     "text": [
      "My name is vrushali. my age is 28\n"
     ]
    }
   ],
   "source": [
    "info = info.capitalize()     ## \n",
    "print(info)"
   ]
  },
  {
   "cell_type": "markdown",
   "id": "b8319c3b",
   "metadata": {},
   "source": [
    "#### For number"
   ]
  },
  {
   "cell_type": "code",
   "execution_count": 3,
   "id": "9ddf0d10",
   "metadata": {},
   "outputs": [
    {
     "data": {
      "text/plain": [
       "'28 is my age'"
      ]
     },
     "execution_count": 3,
     "metadata": {},
     "output_type": "execute_result"
    }
   ],
   "source": [
    "age = '28 is my age'    \n",
    "age"
   ]
  },
  {
   "cell_type": "code",
   "execution_count": 4,
   "id": "02555c6b",
   "metadata": {},
   "outputs": [
    {
     "name": "stdout",
     "output_type": "stream",
     "text": [
      "28 is my age\n"
     ]
    }
   ],
   "source": [
    "age = age.capitalize()        ## Remains same for the string starting with number.\n",
    "print(age)"
   ]
  },
  {
   "cell_type": "markdown",
   "id": "2cc6e4d1",
   "metadata": {},
   "source": [
    "#### Example-2"
   ]
  },
  {
   "cell_type": "code",
   "execution_count": 5,
   "id": "25841b13",
   "metadata": {},
   "outputs": [
    {
     "data": {
      "text/plain": [
       "'welcome to the excelr'"
      ]
     },
     "execution_count": 5,
     "metadata": {},
     "output_type": "execute_result"
    }
   ],
   "source": [
    "institute = 'welcome to the excelr'\n",
    "institute"
   ]
  },
  {
   "cell_type": "code",
   "execution_count": 6,
   "id": "fc976491",
   "metadata": {},
   "outputs": [
    {
     "name": "stdout",
     "output_type": "stream",
     "text": [
      "Welcome to the excelr\n"
     ]
    }
   ],
   "source": [
    "institute = institute.capitalize()\n",
    "print(institute)"
   ]
  },
  {
   "cell_type": "markdown",
   "id": "4ba7a6ff",
   "metadata": {},
   "source": [
    "## 2. Casefold\n",
    "### Converts whole string into lower case letters"
   ]
  },
  {
   "cell_type": "markdown",
   "id": "cdbb3413",
   "metadata": {},
   "source": [
    "#### Example -1"
   ]
  },
  {
   "cell_type": "code",
   "execution_count": 7,
   "id": "8c5a1174",
   "metadata": {},
   "outputs": [
    {
     "data": {
      "text/plain": [
       "'Artificial intelligence (AI) is intelligence demonstrated by machines.'"
      ]
     },
     "execution_count": 7,
     "metadata": {},
     "output_type": "execute_result"
    }
   ],
   "source": [
    "AI = 'Artificial intelligence (AI) is intelligence demonstrated by machines.'\n",
    "AI"
   ]
  },
  {
   "cell_type": "code",
   "execution_count": 8,
   "id": "6fdd2900",
   "metadata": {},
   "outputs": [
    {
     "name": "stdout",
     "output_type": "stream",
     "text": [
      "artificial intelligence (ai) is intelligence demonstrated by machines.\n"
     ]
    }
   ],
   "source": [
    "AI = AI.casefold()\n",
    "print(AI)"
   ]
  },
  {
   "cell_type": "markdown",
   "id": "0fafaae1",
   "metadata": {},
   "source": [
    "#### Example -2"
   ]
  },
  {
   "cell_type": "code",
   "execution_count": 9,
   "id": "d28b76d8",
   "metadata": {},
   "outputs": [
    {
     "data": {
      "text/plain": [
       "'mY GoaL IS To beCoME BEst DaTA SCIeNtIst IN 2022'"
      ]
     },
     "execution_count": 9,
     "metadata": {},
     "output_type": "execute_result"
    }
   ],
   "source": [
    "goal = 'mY GoaL IS To beCoME BEst DaTA SCIeNtIst IN 2022'\n",
    "goal"
   ]
  },
  {
   "cell_type": "code",
   "execution_count": 10,
   "id": "07bb9367",
   "metadata": {},
   "outputs": [
    {
     "name": "stdout",
     "output_type": "stream",
     "text": [
      "my goal is to become best data scientist in 2022\n"
     ]
    }
   ],
   "source": [
    "goal = goal.casefold()\n",
    "print(goal)"
   ]
  },
  {
   "cell_type": "markdown",
   "id": "9349d86c",
   "metadata": {},
   "source": [
    "## 3. lower\n",
    "### converts whole string in lower case"
   ]
  },
  {
   "cell_type": "code",
   "execution_count": 11,
   "id": "7f076bce",
   "metadata": {},
   "outputs": [
    {
     "data": {
      "text/plain": [
       "'MY FAVOURITE SUBJECT IS MATH'"
      ]
     },
     "execution_count": 11,
     "metadata": {},
     "output_type": "execute_result"
    }
   ],
   "source": [
    "sub = 'MY FAVOURITE SUBJECT IS MATH'\n",
    "sub"
   ]
  },
  {
   "cell_type": "code",
   "execution_count": 12,
   "id": "e247810c",
   "metadata": {},
   "outputs": [
    {
     "name": "stdout",
     "output_type": "stream",
     "text": [
      "my favourite subject is math\n"
     ]
    }
   ],
   "source": [
    "sub = sub.lower()\n",
    "print(sub)"
   ]
  },
  {
   "cell_type": "markdown",
   "id": "a31a0579",
   "metadata": {},
   "source": [
    "## 4. upper\n",
    "### Converts whole string into upper case"
   ]
  },
  {
   "cell_type": "code",
   "execution_count": 13,
   "id": "bf0e05ca",
   "metadata": {},
   "outputs": [
    {
     "data": {
      "text/plain": [
       "\"Today's weather is so cloudy\""
      ]
     },
     "execution_count": 13,
     "metadata": {},
     "output_type": "execute_result"
    }
   ],
   "source": [
    "weather = \"Today's weather is so cloudy\"\n",
    "weather"
   ]
  },
  {
   "cell_type": "code",
   "execution_count": 14,
   "id": "8476ad0f",
   "metadata": {},
   "outputs": [
    {
     "name": "stdout",
     "output_type": "stream",
     "text": [
      "TODAY'S WEATHER IS SO CLOUDY\n"
     ]
    }
   ],
   "source": [
    "weather = weather.upper()\n",
    "print(weather)"
   ]
  },
  {
   "cell_type": "markdown",
   "id": "c8562a79",
   "metadata": {},
   "source": [
    "## 5. title\n",
    "### Converts first letter of each word in upper case of the string."
   ]
  },
  {
   "cell_type": "code",
   "execution_count": 15,
   "id": "56dcc3a6",
   "metadata": {},
   "outputs": [
    {
     "data": {
      "text/plain": [
       "'my hobby is to visit new beautiful locations mostly in winter & rainy season'"
      ]
     },
     "execution_count": 15,
     "metadata": {},
     "output_type": "execute_result"
    }
   ],
   "source": [
    "hobby = 'my hobby is to visit new beautiful locations mostly in winter & rainy season'\n",
    "hobby"
   ]
  },
  {
   "cell_type": "code",
   "execution_count": 16,
   "id": "37f24f10",
   "metadata": {},
   "outputs": [
    {
     "name": "stdout",
     "output_type": "stream",
     "text": [
      "My Hobby Is To Visit New Beautiful Locations Mostly In Winter & Rainy Season\n"
     ]
    }
   ],
   "source": [
    "hobby = hobby.title()\n",
    "print(hobby)"
   ]
  },
  {
   "cell_type": "markdown",
   "id": "f376f3e2",
   "metadata": {},
   "source": [
    "## 6. swapcase\n",
    "### Converts lower case to upper & upper case to lower in the string"
   ]
  },
  {
   "cell_type": "code",
   "execution_count": 17,
   "id": "cb70d899",
   "metadata": {},
   "outputs": [
    {
     "data": {
      "text/plain": [
       "'There are so many websites to learn PYTHON'"
      ]
     },
     "execution_count": 17,
     "metadata": {},
     "output_type": "execute_result"
    }
   ],
   "source": [
    "websites = 'There are so many websites to learn PYTHON'\n",
    "websites"
   ]
  },
  {
   "cell_type": "code",
   "execution_count": 18,
   "id": "487f8209",
   "metadata": {},
   "outputs": [
    {
     "name": "stdout",
     "output_type": "stream",
     "text": [
      "tHERE ARE SO MANY WEBSITES TO LEARN python\n"
     ]
    }
   ],
   "source": [
    "websites = websites.swapcase()\n",
    "print(websites)"
   ]
  },
  {
   "cell_type": "markdown",
   "id": "20abf69c",
   "metadata": {},
   "source": [
    "## 7. Center\n",
    "### It converts string in centered location."
   ]
  },
  {
   "cell_type": "markdown",
   "id": "93e646e0",
   "metadata": {},
   "source": [
    "#### Example-1"
   ]
  },
  {
   "cell_type": "code",
   "execution_count": 19,
   "id": "b5e5bf9e",
   "metadata": {},
   "outputs": [
    {
     "data": {
      "text/plain": [
       "'Chapter_No_1_Python'"
      ]
     },
     "execution_count": 19,
     "metadata": {},
     "output_type": "execute_result"
    }
   ],
   "source": [
    "title = 'Chapter_No_1_Python'\n",
    "title"
   ]
  },
  {
   "cell_type": "code",
   "execution_count": 20,
   "id": "de57ef5c",
   "metadata": {},
   "outputs": [
    {
     "name": "stdout",
     "output_type": "stream",
     "text": [
      "     Chapter_No_1_Python     \n"
     ]
    }
   ],
   "source": [
    "title_1 = title.center(29)\n",
    "print(title_1)"
   ]
  },
  {
   "cell_type": "code",
   "execution_count": 21,
   "id": "e7686f0c",
   "metadata": {},
   "outputs": [
    {
     "name": "stdout",
     "output_type": "stream",
     "text": [
      "*******Chapter_No_1_Python*******\n"
     ]
    }
   ],
   "source": [
    "title_2 = title.center(33,'*')\n",
    "print(title_2)"
   ]
  },
  {
   "cell_type": "markdown",
   "id": "515251d7",
   "metadata": {},
   "source": [
    "#### Example-2"
   ]
  },
  {
   "cell_type": "code",
   "execution_count": 22,
   "id": "836a8001",
   "metadata": {},
   "outputs": [
    {
     "data": {
      "text/plain": [
       "'Wings_of_fire'"
      ]
     },
     "execution_count": 22,
     "metadata": {},
     "output_type": "execute_result"
    }
   ],
   "source": [
    "book = 'Wings_of_fire'\n",
    "book"
   ]
  },
  {
   "cell_type": "code",
   "execution_count": 23,
   "id": "2599b6a0",
   "metadata": {},
   "outputs": [
    {
     "name": "stdout",
     "output_type": "stream",
     "text": [
      "--------Wings_of_fire---------\n"
     ]
    }
   ],
   "source": [
    "book = book.center(30,'-')\n",
    "print(book)"
   ]
  },
  {
   "cell_type": "markdown",
   "id": "fdb01c87",
   "metadata": {},
   "source": [
    "## 8. Count\n",
    "### show the no. of times the value occurs in string"
   ]
  },
  {
   "cell_type": "markdown",
   "id": "3a82d223",
   "metadata": {},
   "source": [
    "#### Example-1"
   ]
  },
  {
   "cell_type": "code",
   "execution_count": 24,
   "id": "1c633117",
   "metadata": {},
   "outputs": [
    {
     "data": {
      "text/plain": [
       "'News is information about current events. News is sometimes called \"hard news\" to differentiate it from soft media.'"
      ]
     },
     "execution_count": 24,
     "metadata": {},
     "output_type": "execute_result"
    }
   ],
   "source": [
    "news_def='News is information about current events. News is sometimes called \"hard news\" to differentiate it from soft media.'\n",
    "news_def"
   ]
  },
  {
   "cell_type": "code",
   "execution_count": 25,
   "id": "62dade2b",
   "metadata": {},
   "outputs": [
    {
     "name": "stdout",
     "output_type": "stream",
     "text": [
      "2\n"
     ]
    }
   ],
   "source": [
    "news_def = news_def.count('News')\n",
    "print(news_def)"
   ]
  },
  {
   "cell_type": "markdown",
   "id": "c5258d18",
   "metadata": {},
   "source": [
    "#### Example - 2"
   ]
  },
  {
   "cell_type": "code",
   "execution_count": 26,
   "id": "81fb6347",
   "metadata": {},
   "outputs": [
    {
     "data": {
      "text/plain": [
       "'1,2,2,3,5,6,2,8,3,6,9,2,8,9'"
      ]
     },
     "execution_count": 26,
     "metadata": {},
     "output_type": "execute_result"
    }
   ],
   "source": [
    "num = '1,2,2,3,5,6,2,8,3,6,9,2,8,9'\n",
    "num"
   ]
  },
  {
   "cell_type": "code",
   "execution_count": 27,
   "id": "83f64da0",
   "metadata": {},
   "outputs": [
    {
     "name": "stdout",
     "output_type": "stream",
     "text": [
      "4\n"
     ]
    }
   ],
   "source": [
    "num = num.count('2')\n",
    "print(num)"
   ]
  },
  {
   "cell_type": "markdown",
   "id": "8987ede0",
   "metadata": {},
   "source": [
    "## 9. find\n",
    "### Searches the value & returns the position of the value i.e index number"
   ]
  },
  {
   "cell_type": "markdown",
   "id": "a5d28202",
   "metadata": {},
   "source": [
    "#### Example - 1"
   ]
  },
  {
   "cell_type": "code",
   "execution_count": 28,
   "id": "7a90b880",
   "metadata": {},
   "outputs": [
    {
     "data": {
      "text/plain": [
       "'Life is very Beautiful'"
      ]
     },
     "execution_count": 28,
     "metadata": {},
     "output_type": "execute_result"
    }
   ],
   "source": [
    "life = 'Life is very Beautiful'\n",
    "life"
   ]
  },
  {
   "cell_type": "code",
   "execution_count": 29,
   "id": "738b8036",
   "metadata": {},
   "outputs": [
    {
     "name": "stdout",
     "output_type": "stream",
     "text": [
      "8\n"
     ]
    }
   ],
   "source": [
    "life_1= life.find('very')\n",
    "print(life_1)"
   ]
  },
  {
   "cell_type": "code",
   "execution_count": 30,
   "id": "f1b0c01a",
   "metadata": {},
   "outputs": [
    {
     "name": "stdout",
     "output_type": "stream",
     "text": [
      "-1\n"
     ]
    }
   ],
   "source": [
    "life_2= life.find('q')\n",
    "print(life_2)"
   ]
  },
  {
   "cell_type": "code",
   "execution_count": 36,
   "id": "af5a92db",
   "metadata": {},
   "outputs": [
    {
     "data": {
      "text/plain": [
       "5"
      ]
     },
     "execution_count": 36,
     "metadata": {},
     "output_type": "execute_result"
    }
   ],
   "source": [
    "life.find('is')"
   ]
  },
  {
   "cell_type": "markdown",
   "id": "d0318ecf",
   "metadata": {},
   "source": [
    "#### Example-2"
   ]
  },
  {
   "cell_type": "code",
   "execution_count": 48,
   "id": "41f69a36",
   "metadata": {},
   "outputs": [
    {
     "data": {
      "text/plain": [
       "'1,2,3,4,55,6,9,7,36,4,5'"
      ]
     },
     "execution_count": 48,
     "metadata": {},
     "output_type": "execute_result"
    }
   ],
   "source": [
    "numbers = '1,2,3,4,55,6,9,7,36,4,5'\n",
    "numbers"
   ]
  },
  {
   "cell_type": "code",
   "execution_count": 50,
   "id": "6f38d12e",
   "metadata": {},
   "outputs": [
    {
     "data": {
      "text/plain": [
       "13"
      ]
     },
     "execution_count": 50,
     "metadata": {},
     "output_type": "execute_result"
    }
   ],
   "source": [
    "numbers.find('9')"
   ]
  },
  {
   "cell_type": "code",
   "execution_count": 52,
   "id": "deb6f169",
   "metadata": {},
   "outputs": [
    {
     "data": {
      "text/plain": [
       "17"
      ]
     },
     "execution_count": 52,
     "metadata": {},
     "output_type": "execute_result"
    }
   ],
   "source": [
    "numbers.find('36')"
   ]
  },
  {
   "cell_type": "markdown",
   "id": "29c43c33",
   "metadata": {},
   "source": [
    "## 10. rfind\n",
    "\n",
    "* The rfind() method finds the last occurrence of the specified value.\n",
    "\n",
    "* The rfind() method returns -1 if the value is not found."
   ]
  },
  {
   "cell_type": "markdown",
   "id": "e568ed76",
   "metadata": {},
   "source": [
    "#### Example - 1"
   ]
  },
  {
   "cell_type": "code",
   "execution_count": 55,
   "id": "ef309a0a",
   "metadata": {},
   "outputs": [
    {
     "data": {
      "text/plain": [
       "'Peacock, crow, parrot, crow, sparrow, pigeon, crow'"
      ]
     },
     "execution_count": 55,
     "metadata": {},
     "output_type": "execute_result"
    }
   ],
   "source": [
    "birds = 'Peacock, crow, parrot, crow, sparrow, pigeon, crow'\n",
    "birds"
   ]
  },
  {
   "cell_type": "code",
   "execution_count": 56,
   "id": "24bed495",
   "metadata": {},
   "outputs": [
    {
     "data": {
      "text/plain": [
       "46"
      ]
     },
     "execution_count": 56,
     "metadata": {},
     "output_type": "execute_result"
    }
   ],
   "source": [
    "birds.rfind('crow')"
   ]
  },
  {
   "cell_type": "code",
   "execution_count": 57,
   "id": "39d4db1a",
   "metadata": {},
   "outputs": [
    {
     "data": {
      "text/plain": [
       "9"
      ]
     },
     "execution_count": 57,
     "metadata": {},
     "output_type": "execute_result"
    }
   ],
   "source": [
    "birds.find('crow')"
   ]
  },
  {
   "cell_type": "markdown",
   "id": "43463e1e",
   "metadata": {},
   "source": [
    "#### Example-2"
   ]
  },
  {
   "cell_type": "code",
   "execution_count": 43,
   "id": "12485dfe",
   "metadata": {},
   "outputs": [
    {
     "data": {
      "text/plain": [
       "'I love plants & there are so many plants in my home'"
      ]
     },
     "execution_count": 43,
     "metadata": {},
     "output_type": "execute_result"
    }
   ],
   "source": [
    "plants = 'I love plants & there are so many plants in my home'\n",
    "plants"
   ]
  },
  {
   "cell_type": "code",
   "execution_count": 44,
   "id": "304f972a",
   "metadata": {},
   "outputs": [
    {
     "data": {
      "text/plain": [
       "7"
      ]
     },
     "execution_count": 44,
     "metadata": {},
     "output_type": "execute_result"
    }
   ],
   "source": [
    "plants.find('plants') # find"
   ]
  },
  {
   "cell_type": "code",
   "execution_count": 46,
   "id": "a435b296",
   "metadata": {},
   "outputs": [
    {
     "data": {
      "text/plain": [
       "34"
      ]
     },
     "execution_count": 46,
     "metadata": {},
     "output_type": "execute_result"
    }
   ],
   "source": [
    "plants.rfind('plants') # find in reverse direction i.e last occurance"
   ]
  },
  {
   "cell_type": "markdown",
   "id": "d73e1aad",
   "metadata": {},
   "source": [
    "## 11. index || 12. rindex\n",
    "### If the value is not found, the find() method returns -1, but the index() method will raise an exception(error)"
   ]
  },
  {
   "cell_type": "markdown",
   "id": "9b7fdb7b",
   "metadata": {},
   "source": [
    "#### Example - 1"
   ]
  },
  {
   "cell_type": "code",
   "execution_count": 59,
   "id": "da2f5319",
   "metadata": {},
   "outputs": [
    {
     "data": {
      "text/plain": [
       "'VW, Maruti Suzuki, BMW, Hyundai, Tata, Mahindra, Toyoto, Kia, Honda, Skoda, Tata, BMW'"
      ]
     },
     "execution_count": 59,
     "metadata": {},
     "output_type": "execute_result"
    }
   ],
   "source": [
    "car_brands = 'VW, Maruti Suzuki, BMW, Hyundai, Tata, Mahindra, Toyoto, Kia, Honda, Skoda, Tata, BMW'\n",
    "car_brands"
   ]
  },
  {
   "cell_type": "code",
   "execution_count": 69,
   "id": "4c4b2629",
   "metadata": {},
   "outputs": [
    {
     "name": "stdout",
     "output_type": "stream",
     "text": [
      "39\n",
      "19\n",
      "76\n",
      "82\n"
     ]
    }
   ],
   "source": [
    "print(car_brands.index('Mahindra'))\n",
    "print(car_brands.index('BMW'))\n",
    "print(car_brands.rindex('Tata'))\n",
    "print(car_brands.rindex('BMW'))"
   ]
  },
  {
   "cell_type": "code",
   "execution_count": 60,
   "id": "5215e8e8",
   "metadata": {},
   "outputs": [
    {
     "name": "stdout",
     "output_type": "stream",
     "text": [
      "-1\n"
     ]
    },
    {
     "ename": "ValueError",
     "evalue": "substring not found",
     "output_type": "error",
     "traceback": [
      "\u001b[1;31m---------------------------------------------------------------------------\u001b[0m",
      "\u001b[1;31mValueError\u001b[0m                                Traceback (most recent call last)",
      "Input \u001b[1;32mIn [60]\u001b[0m, in \u001b[0;36m<cell line: 3>\u001b[1;34m()\u001b[0m\n\u001b[0;32m      1\u001b[0m \u001b[38;5;66;03m# Error\u001b[39;00m\n\u001b[0;32m      2\u001b[0m \u001b[38;5;28mprint\u001b[39m(car_brands\u001b[38;5;241m.\u001b[39mfind(\u001b[38;5;124m'\u001b[39m\u001b[38;5;124mbenz\u001b[39m\u001b[38;5;124m'\u001b[39m))\n\u001b[1;32m----> 3\u001b[0m \u001b[38;5;28mprint\u001b[39m(\u001b[43mlife\u001b[49m\u001b[38;5;241;43m.\u001b[39;49m\u001b[43mindex\u001b[49m\u001b[43m(\u001b[49m\u001b[38;5;124;43m'\u001b[39;49m\u001b[38;5;124;43mbenz\u001b[39;49m\u001b[38;5;124;43m'\u001b[39;49m\u001b[43m)\u001b[49m)\n",
      "\u001b[1;31mValueError\u001b[0m: substring not found"
     ]
    }
   ],
   "source": [
    "# Error\n",
    "print(car_brands.find('benz'))\n",
    "print(life.index('benz'))"
   ]
  },
  {
   "cell_type": "markdown",
   "id": "fe86617e",
   "metadata": {},
   "source": [
    "#### Example-2"
   ]
  },
  {
   "cell_type": "code",
   "execution_count": 62,
   "id": "fb382772",
   "metadata": {},
   "outputs": [
    {
     "data": {
      "text/plain": [
       "'Rose, Lily, Tulip, Orchid, Jasmine, Lotus, Rose, Tulip'"
      ]
     },
     "execution_count": 62,
     "metadata": {},
     "output_type": "execute_result"
    }
   ],
   "source": [
    "flowers = 'Rose, Lily, Tulip, Orchid, Jasmine, Lotus, Rose, Tulip'\n",
    "flowers"
   ]
  },
  {
   "cell_type": "code",
   "execution_count": 63,
   "id": "4b8e19f0",
   "metadata": {},
   "outputs": [
    {
     "data": {
      "text/plain": [
       "0"
      ]
     },
     "execution_count": 63,
     "metadata": {},
     "output_type": "execute_result"
    }
   ],
   "source": [
    "flowers.index('Rose')"
   ]
  },
  {
   "cell_type": "code",
   "execution_count": 64,
   "id": "5d4805a9",
   "metadata": {},
   "outputs": [
    {
     "data": {
      "text/plain": [
       "43"
      ]
     },
     "execution_count": 64,
     "metadata": {},
     "output_type": "execute_result"
    }
   ],
   "source": [
    "flowers.rindex('Rose') # Index the search in reverse direction i.e last occurance"
   ]
  },
  {
   "cell_type": "code",
   "execution_count": 67,
   "id": "9caba494",
   "metadata": {},
   "outputs": [
    {
     "name": "stdout",
     "output_type": "stream",
     "text": [
      "19\n",
      "19\n"
     ]
    }
   ],
   "source": [
    "print(flowers.rindex('Orchid'))  # Only one occurance here\n",
    "print(flowers.index('Orchid'))"
   ]
  },
  {
   "cell_type": "markdown",
   "id": "ba04bda8",
   "metadata": {},
   "source": [
    "## 12. format"
   ]
  },
  {
   "cell_type": "markdown",
   "id": "a223d436",
   "metadata": {},
   "source": [
    "#### Example - 1"
   ]
  },
  {
   "cell_type": "code",
   "execution_count": null,
   "id": "5f7cb2ed",
   "metadata": {},
   "outputs": [],
   "source": [
    "Emp_data = 'Emp_name is {}, Emp_iD is {}, Salary is {}'.format('Vrushali' ,93,900000)\n",
    "print(Emp_data)"
   ]
  },
  {
   "cell_type": "code",
   "execution_count": null,
   "id": "cfc687e6",
   "metadata": {},
   "outputs": [],
   "source": [
    "Emp_data_1 = 'Emp_name is {name}, Emp_iD is {no}, Salary is {pay}'.format(name ='Vrushali' ,no=93,pay=900000)\n",
    "print(Emp_data_1)"
   ]
  },
  {
   "cell_type": "code",
   "execution_count": null,
   "id": "34201f79",
   "metadata": {},
   "outputs": [],
   "source": [
    "fname = input('Name:')\n",
    "emp_id = input('ID:')\n",
    "pay = input('salary:')\n",
    "\n",
    "print('Emp_name is {}, Emp_Id is {} & salary is {}'.format(fname,emp_id,pay))"
   ]
  },
  {
   "cell_type": "markdown",
   "id": "7538e19c",
   "metadata": {},
   "source": [
    "#### Example - 2"
   ]
  },
  {
   "cell_type": "code",
   "execution_count": null,
   "id": "088d03a0",
   "metadata": {},
   "outputs": [],
   "source": [
    "ssc_res = 'pass'\n",
    "hsc_res = 'pass'\n",
    "ssc_per = input('Percentage_s:')\n",
    "hsc_per = input('Percentage_h:')\n",
    "print('My result of 10th is {} & I got {} % also my result of 12th is {} & I got {} %'.format(ssc_res,ssc_per,hsc_res,hsc_per))"
   ]
  },
  {
   "cell_type": "markdown",
   "id": "9c5b68a1",
   "metadata": {},
   "source": [
    "## 13. isalpha\n",
    "### Returns True if all characters in the string are in the alphabet"
   ]
  },
  {
   "cell_type": "markdown",
   "id": "2971cb34",
   "metadata": {},
   "source": [
    "#### Example - 1"
   ]
  },
  {
   "cell_type": "code",
   "execution_count": null,
   "id": "66d03e1c",
   "metadata": {},
   "outputs": [],
   "source": [
    "comp = 'Computer@2015'\n",
    "comp"
   ]
  },
  {
   "cell_type": "code",
   "execution_count": null,
   "id": "207b1022",
   "metadata": {},
   "outputs": [],
   "source": [
    "print(comp.isalpha())"
   ]
  },
  {
   "cell_type": "markdown",
   "id": "6ed33440",
   "metadata": {},
   "source": [
    "#### Example - 2"
   ]
  },
  {
   "cell_type": "code",
   "execution_count": null,
   "id": "793f5f74",
   "metadata": {},
   "outputs": [],
   "source": [
    "social_media = 'Facebook'\n",
    "social_media"
   ]
  },
  {
   "cell_type": "code",
   "execution_count": null,
   "id": "e0898bb1",
   "metadata": {},
   "outputs": [],
   "source": [
    "print(social_media.isalpha())"
   ]
  },
  {
   "cell_type": "markdown",
   "id": "bf0cc0fe",
   "metadata": {},
   "source": [
    "## 14. isalnum\n",
    "### Returns True if all characters in the string are alphanumeric"
   ]
  },
  {
   "cell_type": "markdown",
   "id": "16077261",
   "metadata": {},
   "source": [
    "#### Example - 1"
   ]
  },
  {
   "cell_type": "code",
   "execution_count": null,
   "id": "30aa94a2",
   "metadata": {},
   "outputs": [],
   "source": [
    "season = 'Rainy123'\n",
    "season"
   ]
  },
  {
   "cell_type": "code",
   "execution_count": null,
   "id": "00eace2a",
   "metadata": {},
   "outputs": [],
   "source": [
    "print(season.isalnum())"
   ]
  },
  {
   "cell_type": "code",
   "execution_count": null,
   "id": "0f538a70",
   "metadata": {},
   "outputs": [],
   "source": [
    "colour = 'pink'"
   ]
  },
  {
   "cell_type": "code",
   "execution_count": null,
   "id": "50d0771a",
   "metadata": {},
   "outputs": [],
   "source": [
    "print(colour.isalnum())"
   ]
  },
  {
   "cell_type": "code",
   "execution_count": null,
   "id": "3cc32bcc",
   "metadata": {},
   "outputs": [],
   "source": [
    "value = '1,2,3,4,5,6,7,8,9'\n",
    "value"
   ]
  },
  {
   "cell_type": "code",
   "execution_count": null,
   "id": "cdbc08f2",
   "metadata": {},
   "outputs": [],
   "source": [
    "print(value.isalnum())"
   ]
  },
  {
   "cell_type": "markdown",
   "id": "93509e94",
   "metadata": {},
   "source": [
    "#### Example - 2"
   ]
  },
  {
   "cell_type": "code",
   "execution_count": null,
   "id": "1c6df678",
   "metadata": {},
   "outputs": [],
   "source": [
    "comp"
   ]
  },
  {
   "cell_type": "code",
   "execution_count": null,
   "id": "d220b09f",
   "metadata": {},
   "outputs": [],
   "source": [
    "print(comp.isalnum())"
   ]
  },
  {
   "cell_type": "markdown",
   "id": "e7b31993",
   "metadata": {},
   "source": [
    "## 15. isascii"
   ]
  },
  {
   "cell_type": "code",
   "execution_count": null,
   "id": "5aeeb7ce",
   "metadata": {},
   "outputs": [],
   "source": [
    "value"
   ]
  },
  {
   "cell_type": "code",
   "execution_count": null,
   "id": "ab7a6896",
   "metadata": {},
   "outputs": [],
   "source": [
    "print(value.isascii())"
   ]
  },
  {
   "cell_type": "code",
   "execution_count": null,
   "id": "025425cc",
   "metadata": {},
   "outputs": [],
   "source": [
    "colour"
   ]
  },
  {
   "cell_type": "code",
   "execution_count": null,
   "id": "39bdb349",
   "metadata": {},
   "outputs": [],
   "source": [
    "print(colour.isascii())"
   ]
  },
  {
   "cell_type": "markdown",
   "id": "528446fe",
   "metadata": {},
   "source": [
    "## 16. isdecimal\n",
    "### The isdecimal() method returns True if all the characters are decimals (0-9)"
   ]
  },
  {
   "cell_type": "code",
   "execution_count": null,
   "id": "712a328c",
   "metadata": {},
   "outputs": [],
   "source": [
    "x = '15'\n",
    "y= '12.5'"
   ]
  },
  {
   "cell_type": "code",
   "execution_count": null,
   "id": "91ff9fa3",
   "metadata": {},
   "outputs": [],
   "source": [
    "print(x.isdecimal())\n",
    "print(y.isdecimal())"
   ]
  },
  {
   "cell_type": "markdown",
   "id": "bc80dca9",
   "metadata": {},
   "source": [
    "## 17. isdigit\n",
    "### The isdigit() method returns True if all the characters are digits, otherwise False"
   ]
  },
  {
   "cell_type": "code",
   "execution_count": null,
   "id": "28ebcefb",
   "metadata": {},
   "outputs": [],
   "source": [
    "array = '1,2,3'\n",
    "array_1 = '100'\n",
    "array_2 = 'Vrushali'"
   ]
  },
  {
   "cell_type": "code",
   "execution_count": null,
   "id": "1ce44620",
   "metadata": {},
   "outputs": [],
   "source": [
    "print(array.isdigit())\n",
    "print(array_1.isdigit())\n",
    "print(array_2.isdigit())"
   ]
  },
  {
   "cell_type": "markdown",
   "id": "290b684e",
   "metadata": {},
   "source": [
    "## 18. isidentifier\n",
    "### A string is considered a valid identifier if it only contains alphanumeric letters (a-z) and (0-9), or underscores (_)."
   ]
  },
  {
   "cell_type": "code",
   "execution_count": null,
   "id": "d898024f",
   "metadata": {},
   "outputs": [],
   "source": [
    "game = 'Carrom1_Hocky2_cricket3'\n",
    "line = 'straight_line'\n",
    "student = 'Vinit, Kirti, Ramya'\n",
    "year = '2021'                 ## identifier never start with number or any space"
   ]
  },
  {
   "cell_type": "code",
   "execution_count": null,
   "id": "f9b1adc4",
   "metadata": {},
   "outputs": [],
   "source": [
    "print(game.isidentifier())\n",
    "print(line.isidentifier())\n",
    "print(student.isidentifier())\n",
    "print(year.isidentifier())"
   ]
  },
  {
   "cell_type": "markdown",
   "id": "f2121572",
   "metadata": {},
   "source": [
    "## 19. islower\n",
    "### The islower() method returns True if all the characters are in lower case, otherwise False"
   ]
  },
  {
   "cell_type": "code",
   "execution_count": null,
   "id": "d0ab9ef5",
   "metadata": {},
   "outputs": [],
   "source": [
    "print(line)\n",
    "print(game)\n",
    "print(student)"
   ]
  },
  {
   "cell_type": "code",
   "execution_count": null,
   "id": "e05308f4",
   "metadata": {},
   "outputs": [],
   "source": [
    "print(line.islower())\n",
    "print(game.islower())\n",
    "print(student.islower())"
   ]
  },
  {
   "cell_type": "markdown",
   "id": "eb3e3315",
   "metadata": {},
   "source": [
    "## 20. isnumeric\n",
    "### Returns True if all characters in the string are numeric"
   ]
  },
  {
   "cell_type": "code",
   "execution_count": null,
   "id": "7249d84c",
   "metadata": {},
   "outputs": [],
   "source": [
    "number = '123597'\n",
    "numbers_1 = '1,2,2,3,5,6,98,5'\n",
    "numbers_2 = ' 2,2.5,-6,9,58,47,95'\n",
    "animals = 'Cat, Dog, Cow'"
   ]
  },
  {
   "cell_type": "code",
   "execution_count": null,
   "id": "b8c06f11",
   "metadata": {},
   "outputs": [],
   "source": [
    "print(number.isnumeric())\n",
    "print(numbers_1.isnumeric())\n",
    "print(numbers_2.isnumeric())\n",
    "print(animals.isnumeric())"
   ]
  },
  {
   "cell_type": "markdown",
   "id": "77503661",
   "metadata": {},
   "source": [
    "## 21. isprintable\n",
    "### The isprintable() method returns True if all the characters are printable, otherwise False.\n",
    "### Example of none printable character can be carriage return(\\r) and line feed(\\n)."
   ]
  },
  {
   "cell_type": "code",
   "execution_count": null,
   "id": "95b46ed5",
   "metadata": {},
   "outputs": [],
   "source": [
    "my_str = 'I am starting to read a new book'\n",
    "print(my_str.isprintable())"
   ]
  },
  {
   "cell_type": "code",
   "execution_count": null,
   "id": "8e76b3d6",
   "metadata": {},
   "outputs": [],
   "source": [
    "menu_bar = 'start, edit, file, \\nview, \\rinsert'\n",
    "print(menu_bar.isprintable())"
   ]
  },
  {
   "cell_type": "code",
   "execution_count": null,
   "id": "bf401509",
   "metadata": {},
   "outputs": [],
   "source": [
    "para = '''I am going to talk with John sir \n",
    "about doubt tommorow\n",
    "'''\n",
    "print(para.isprintable())"
   ]
  },
  {
   "cell_type": "markdown",
   "id": "906575ba",
   "metadata": {},
   "source": [
    "## 22. isspace\n",
    "### The isspace() method returns True if all the characters in a string are whitespaces, otherwise False"
   ]
  },
  {
   "cell_type": "code",
   "execution_count": null,
   "id": "08eddb0c",
   "metadata": {},
   "outputs": [],
   "source": [
    "sub_1 = '   marathi   '\n",
    "sub_2 = 'Data_Science, AI, Python'\n",
    "sub_3 = '    '"
   ]
  },
  {
   "cell_type": "code",
   "execution_count": null,
   "id": "635d94f8",
   "metadata": {},
   "outputs": [],
   "source": [
    "print(sub_1.isspace())\n",
    "print(sub_2.isspace())\n",
    "print(sub_3.isspace())"
   ]
  },
  {
   "cell_type": "markdown",
   "id": "6263ea43",
   "metadata": {},
   "source": [
    "## 23. istitle\n",
    "### The istitle() method returns True if all words in a text start with a upper case letter, AND the rest of the word are lower case letters, otherwise False."
   ]
  },
  {
   "cell_type": "code",
   "execution_count": null,
   "id": "81ced45d",
   "metadata": {},
   "outputs": [],
   "source": [
    "Tv = 'I Frequently Watched Tv'\n",
    "SIRI = 'Get everyday tasks done with just your voice.'"
   ]
  },
  {
   "cell_type": "code",
   "execution_count": null,
   "id": "371c1465",
   "metadata": {},
   "outputs": [],
   "source": [
    "print(Tv.istitle())\n",
    "print(SIRI.istitle())"
   ]
  },
  {
   "cell_type": "markdown",
   "id": "8ef86195",
   "metadata": {},
   "source": [
    "## 24. isupper\n",
    "### The isupper() method returns True if all the characters are in upper case, otherwise False."
   ]
  },
  {
   "cell_type": "code",
   "execution_count": null,
   "id": "2539bb67",
   "metadata": {},
   "outputs": [],
   "source": [
    "movies = 'BLACH, DHOOM_3, RRR, KGF_2'\n",
    "colab = 'Colab is the commonly used abbreviation of the New York City'"
   ]
  },
  {
   "cell_type": "code",
   "execution_count": null,
   "id": "743697c1",
   "metadata": {},
   "outputs": [],
   "source": [
    "print(movies.isupper())\n",
    "print(colab.isupper())"
   ]
  },
  {
   "cell_type": "markdown",
   "id": "706367dd",
   "metadata": {},
   "source": [
    "## 25. ljust\n",
    "### The ljust() method will left align the string, using a specified character (space is default) as the fill character."
   ]
  },
  {
   "cell_type": "code",
   "execution_count": null,
   "id": "7d2d2531",
   "metadata": {},
   "outputs": [],
   "source": [
    "lang = 'python'\n",
    "watch = 'Rolex'"
   ]
  },
  {
   "cell_type": "code",
   "execution_count": null,
   "id": "536967f4",
   "metadata": {},
   "outputs": [],
   "source": [
    "print(lang.ljust(10), 'is easy to understand ')\n",
    "print(watch.ljust(10,'-'), 'is my favourite brand')"
   ]
  },
  {
   "cell_type": "markdown",
   "id": "122739ad",
   "metadata": {},
   "source": [
    "## 26.rjust\n",
    "### Returns a right justified version of the string"
   ]
  },
  {
   "cell_type": "code",
   "execution_count": null,
   "id": "b14e0667",
   "metadata": {},
   "outputs": [],
   "source": [
    "print(lang.rjust(10,'*'), 'is easy to understand ')\n",
    "print(watch.rjust(10), 'is my favourite brand')"
   ]
  },
  {
   "cell_type": "markdown",
   "id": "341c1d3d",
   "metadata": {},
   "source": [
    "## 27. lstrip\n",
    "### The lstrip() method removes any leading characters (space is the default leading character to remove)"
   ]
  },
  {
   "cell_type": "code",
   "execution_count": null,
   "id": "9487dc71",
   "metadata": {},
   "outputs": [],
   "source": [
    "location = '.....,,,agfsadfu==Andman'\n",
    "ball = '        Tenis      '"
   ]
  },
  {
   "cell_type": "code",
   "execution_count": null,
   "id": "8b749877",
   "metadata": {},
   "outputs": [],
   "source": [
    "print(location.lstrip(\".,agfsdu=\"))\n",
    "print(ball.lstrip())"
   ]
  },
  {
   "cell_type": "markdown",
   "id": "6d471e0d",
   "metadata": {},
   "source": [
    "## 28. rstrip\n",
    "### The rstrip() method removes any trailing characters (characters at the end a string), space is the default trailing character to remove."
   ]
  },
  {
   "cell_type": "code",
   "execution_count": null,
   "id": "d06a877e",
   "metadata": {},
   "outputs": [],
   "source": [
    "game =' Cricket is my favourite game          '\n",
    "trainer = 'John is very good trainer----****#dcegbdfgbd**'"
   ]
  },
  {
   "cell_type": "code",
   "execution_count": null,
   "id": "77ae681d",
   "metadata": {},
   "outputs": [],
   "source": [
    "print(game.rstrip())\n",
    "print(trainer.rstrip('-*#decgbf'))"
   ]
  },
  {
   "cell_type": "markdown",
   "id": "a03df4b6",
   "metadata": {},
   "source": [
    "## 29. maketrans\n",
    "### Returns the translated string which we replace the alphabet"
   ]
  },
  {
   "cell_type": "markdown",
   "id": "55f3be58",
   "metadata": {},
   "source": [
    "#### Example - 1"
   ]
  },
  {
   "cell_type": "code",
   "execution_count": null,
   "id": "51f6dbaf",
   "metadata": {},
   "outputs": [],
   "source": [
    "world = 'Now a days world is going so faster'\n",
    "world"
   ]
  },
  {
   "cell_type": "code",
   "execution_count": null,
   "id": "c437bfac",
   "metadata": {},
   "outputs": [],
   "source": [
    "\n",
    "world_1"
   ]
  },
  {
   "cell_type": "code",
   "execution_count": null,
   "id": "3632e701",
   "metadata": {},
   "outputs": [],
   "source": [
    "print(world.translate(world_1))"
   ]
  },
  {
   "cell_type": "markdown",
   "id": "ccb677bc",
   "metadata": {},
   "source": [
    "#### Example -2 "
   ]
  },
  {
   "cell_type": "code",
   "execution_count": null,
   "id": "c87c92e6",
   "metadata": {},
   "outputs": [],
   "source": [
    "keyboard = 'Keyboard has 105 keys'\n",
    "keyboard"
   ]
  },
  {
   "cell_type": "code",
   "execution_count": null,
   "id": "115cef00",
   "metadata": {},
   "outputs": [],
   "source": [
    "Keys = keyboard.maketrans('Kkey105','Hhit216')\n",
    "Keys"
   ]
  },
  {
   "cell_type": "code",
   "execution_count": null,
   "id": "2542c91f",
   "metadata": {},
   "outputs": [],
   "source": [
    "print(keyboard.translate(Keys))"
   ]
  },
  {
   "cell_type": "markdown",
   "id": "fb2a9f81",
   "metadata": {},
   "source": [
    "## 30.partition\n",
    "### This method searches for the first occurrence of the specified string."
   ]
  },
  {
   "cell_type": "markdown",
   "id": "45866fa6",
   "metadata": {},
   "source": [
    "#### Example - 1"
   ]
  },
  {
   "cell_type": "code",
   "execution_count": null,
   "id": "5d07489e",
   "metadata": {},
   "outputs": [],
   "source": [
    "wikipedia = 'Wikipedia is a free online encyclopedia, created and edited by volunteers around the world.'\n",
    "wikipedia"
   ]
  },
  {
   "cell_type": "code",
   "execution_count": null,
   "id": "a1f735e3",
   "metadata": {},
   "outputs": [],
   "source": [
    "print(wikipedia.partition(\"created\"))"
   ]
  },
  {
   "cell_type": "markdown",
   "id": "0f627aff",
   "metadata": {},
   "source": [
    "#### Example - 2"
   ]
  },
  {
   "cell_type": "code",
   "execution_count": null,
   "id": "07697a59",
   "metadata": {},
   "outputs": [],
   "source": [
    "my_str = '1,2,3,4,5,6,78,9,55'\n",
    "my_str"
   ]
  },
  {
   "cell_type": "code",
   "execution_count": null,
   "id": "6f06b4f6",
   "metadata": {},
   "outputs": [],
   "source": [
    "print(my_str.partition('5'))"
   ]
  },
  {
   "cell_type": "markdown",
   "id": "56c2ab61",
   "metadata": {},
   "source": [
    "## 31. rpartition\n",
    "### The rpartition() method searches for the last occurrence of a specified string, and splits the string into a tuple."
   ]
  },
  {
   "cell_type": "markdown",
   "id": "0518b4b8",
   "metadata": {},
   "source": [
    "#### Example - 1"
   ]
  },
  {
   "cell_type": "code",
   "execution_count": null,
   "id": "b8a5cacd",
   "metadata": {},
   "outputs": [],
   "source": [
    "python_1 = 'Python is a high-level, also python is interpreted, programming language & python invented by Guido van Rossum'\n",
    "python_1"
   ]
  },
  {
   "cell_type": "code",
   "execution_count": null,
   "id": "1420058b",
   "metadata": {},
   "outputs": [],
   "source": [
    "print(python_1.rpartition('python'))"
   ]
  },
  {
   "cell_type": "markdown",
   "id": "f6e345b0",
   "metadata": {},
   "source": [
    "#### Example - 2"
   ]
  },
  {
   "cell_type": "code",
   "execution_count": null,
   "id": "75db55de",
   "metadata": {},
   "outputs": [],
   "source": [
    "alnum = ' 1,a,55,j,89,u,o,j,y,28,v,9,43'\n",
    "alnum"
   ]
  },
  {
   "cell_type": "code",
   "execution_count": null,
   "id": "e2405e0c",
   "metadata": {},
   "outputs": [],
   "source": [
    "print(alnum.rpartition('j'))"
   ]
  },
  {
   "cell_type": "markdown",
   "id": "7d94e782",
   "metadata": {},
   "source": [
    "## 32. replace\n",
    "### The replace() method replaces a specified phrase with another specified phrase."
   ]
  },
  {
   "cell_type": "markdown",
   "id": "e118b5bc",
   "metadata": {},
   "source": [
    "#### Example - 1"
   ]
  },
  {
   "cell_type": "code",
   "execution_count": null,
   "id": "0a0d21fa",
   "metadata": {},
   "outputs": [],
   "source": [
    "galaxy = 'Milkyway is the galaxy in which our solar_system is exist'\n",
    "galaxy"
   ]
  },
  {
   "cell_type": "code",
   "execution_count": null,
   "id": "b0b4339d",
   "metadata": {},
   "outputs": [],
   "source": [
    "print(galaxy.replace('solar_system','earth'))"
   ]
  },
  {
   "cell_type": "markdown",
   "id": "6f17fdc3",
   "metadata": {},
   "source": [
    "#### Example - 2"
   ]
  },
  {
   "cell_type": "code",
   "execution_count": null,
   "id": "1f78ae9d",
   "metadata": {},
   "outputs": [],
   "source": [
    "nat_num = '1,2,3,5,7,11,13,17,19,23'\n",
    "nat_num"
   ]
  },
  {
   "cell_type": "code",
   "execution_count": null,
   "id": "3f2a520e",
   "metadata": {},
   "outputs": [],
   "source": [
    "print(nat_num.replace(\"5\",\"29\"))"
   ]
  },
  {
   "cell_type": "code",
   "execution_count": null,
   "id": "4f3c5b6b",
   "metadata": {},
   "outputs": [],
   "source": []
  },
  {
   "cell_type": "markdown",
   "id": "e34f9a7e",
   "metadata": {},
   "source": [
    "## 33. join\n",
    "### The join() method takes all items in an iterable and joins them into one string."
   ]
  },
  {
   "cell_type": "code",
   "execution_count": null,
   "id": "2c8364d2",
   "metadata": {},
   "outputs": [],
   "source": [
    "flowers = ('Rose', 'Tulip', \"Jasmine\", \"Hibiscus\")\n",
    "data_types = ('int','float','string')"
   ]
  },
  {
   "cell_type": "code",
   "execution_count": null,
   "id": "de67db27",
   "metadata": {},
   "outputs": [],
   "source": [
    "print('#'.join(flowers))\n",
    "print('-'.join(data_types))"
   ]
  }
 ],
 "metadata": {
  "kernelspec": {
   "display_name": "Python 3 (ipykernel)",
   "language": "python",
   "name": "python3"
  },
  "language_info": {
   "codemirror_mode": {
    "name": "ipython",
    "version": 3
   },
   "file_extension": ".py",
   "mimetype": "text/x-python",
   "name": "python",
   "nbconvert_exporter": "python",
   "pygments_lexer": "ipython3",
   "version": "3.9.12"
  }
 },
 "nbformat": 4,
 "nbformat_minor": 5
}
